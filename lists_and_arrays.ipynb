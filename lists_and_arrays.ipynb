{
  "nbformat": 4,
  "nbformat_minor": 0,
  "metadata": {
    "colab": {
      "provenance": [],
      "authorship_tag": "ABX9TyPVc6A2f/zkl8Bx8G1u4Jp0",
      "include_colab_link": true
    },
    "kernelspec": {
      "name": "python3",
      "display_name": "Python 3"
    },
    "language_info": {
      "name": "python"
    }
  },
  "cells": [
    {
      "cell_type": "markdown",
      "metadata": {
        "id": "view-in-github",
        "colab_type": "text"
      },
      "source": [
        "<a href=\"https://colab.research.google.com/github/dprobity/machinelearning/blob/main/lists_and_arrays.ipynb\" target=\"_parent\"><img src=\"https://colab.research.google.com/assets/colab-badge.svg\" alt=\"Open In Colab\"/></a>"
      ]
    },
    {
      "cell_type": "code",
      "execution_count": 5,
      "metadata": {
        "colab": {
          "base_uri": "https://localhost:8080/"
        },
        "id": "Ub2XSiRTW-Ng",
        "outputId": "a0f8b480-3278-4c9e-a3ed-6e3148903c9e"
      },
      "outputs": [
        {
          "output_type": "stream",
          "name": "stdout",
          "text": [
            "[1, 2, 3, 7, 61, 29, 199]\n",
            "1\n",
            "2\n",
            "3\n",
            "7\n",
            "61\n",
            "29\n",
            "199\n"
          ]
        }
      ],
      "source": [
        "firstPrime = 1\n",
        "secondPrime = 2\n",
        "thirdPrime = 3\n",
        "\n",
        "primeNumbers = [firstPrime, secondPrime, thirdPrime, 7, 61, 29, 199 ]\n",
        "type(primeNumbers)\n",
        "print(primeNumbers)\n",
        "\n",
        "print(primeNumbers[0])\n",
        "print(primeNumbers[1])\n",
        "print(primeNumbers[2])\n",
        "print(primeNumbers[3])\n",
        "print(primeNumbers[4])\n",
        "print(primeNumbers[5])\n",
        "print(primeNumbers[6])"
      ]
    }
  ]
}